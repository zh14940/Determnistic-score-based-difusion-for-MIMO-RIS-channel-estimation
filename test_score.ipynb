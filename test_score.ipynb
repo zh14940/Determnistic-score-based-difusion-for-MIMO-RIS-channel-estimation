{
 "cells": [
  {
   "cell_type": "code",
   "execution_count": 2,
   "id": "3bca1dbe",
   "metadata": {},
   "outputs": [
    {
     "name": "stderr",
     "output_type": "stream",
     "text": [
      "C:\\Users\\Zhizhou He\\anaconda3\\envs\\pytorch\\lib\\site-packages\\tqdm\\auto.py:21: TqdmWarning: IProgress not found. Please update jupyter and ipywidgets. See https://ipywidgets.readthedocs.io/en/stable/user_install.html\n",
      "  from .autonotebook import tqdm as notebook_tqdm\n"
     ]
    },
    {
     "name": "stdout",
     "output_type": "stream",
     "text": [
      "torch.Size([64, 64, 2, 96])\n",
      "torch.Size([64])\n",
      "torch.Size([64, 64, 10])\n"
     ]
    }
   ],
   "source": [
    "from scipy.io import loadmat\n",
    "import torch\n",
    "import numpy as np\n",
    "from tqdm import tqdm\n",
    "\n",
    "Gchannel = torch.load('Gchannel.pt')\n",
    "print(Gchannel.shape)\n",
    "########### pilot signals ############\n",
    "num_pilots = 100\n",
    "Nt = 64\n",
    "\n",
    "# 创建包含给定复数的实部和虚部的张量\n",
    "constellation_real = torch.tensor([1, 1, -1, -1], dtype=torch.float)\n",
    "constellation_imag = torch.tensor([1, -1, 1, -1], dtype=torch.float)\n",
    "\n",
    "# 生成随机索引\n",
    "p_indices = torch.randint(0, len(constellation_real), (Nt,))\n",
    "# 使用索引分别从实部和虚部张量中选择元素\n",
    "random_real_parts = constellation_real[p_indices]\n",
    "random_imag_parts = constellation_imag[p_indices]\n",
    "\n",
    "# 将实部和虚部合并成一个复数张量\n",
    "pilot = torch.complex(random_real_parts, random_imag_parts)\n",
    "print(pilot.shape)\n",
    "\n",
    "########### Pick Validation index ##############\n",
    "val_number = 10\n",
    "val_index = torch.randint(0, len(Gchannel), (val_number,))\n",
    "val_channel = torch.zeros([Nt,Nt,2,val_number])\n",
    "for i in range(len(val_index)):\n",
    "    val_channel[:,:,:,i] = Gchannel[:,:,:,val_index[i]]\n",
    "val_channel = torch.complex(torch.FloatTensor(val_channel[:,:,0,:]), torch.FloatTensor(val_channel[:,:,1,:]))\n",
    "print(val_channel.shape)\n",
    "HP = torch.zeros_like(val_channel)\n",
    "for i in range(val_channel.shape[2]):\n",
    "    HP[:,:,i] = torch.matmul(val_channel[:,:,i], pilot)\n",
    "\n",
    "########## AWGN noise ##############\n",
    "noise = torch.rand_like(HP)+1j*torch.rand_like(HP)\n",
    "snr_range = torch.arange(-10, 30, 5)\n",
    "noise_power = 10 ** (-snr_range / 10)"
   ]
  },
  {
   "cell_type": "code",
   "execution_count": 8,
   "id": "06899ec9",
   "metadata": {},
   "outputs": [
    {
     "ename": "ModuleNotFoundError",
     "evalue": "No module named 'train_score'",
     "output_type": "error",
     "traceback": [
      "\u001b[1;31m---------------------------------------------------------------------------\u001b[0m",
      "\u001b[1;31mModuleNotFoundError\u001b[0m                       Traceback (most recent call last)",
      "Cell \u001b[1;32mIn[8], line 1\u001b[0m\n\u001b[1;32m----> 1\u001b[0m \u001b[38;5;28;01mfrom\u001b[39;00m \u001b[38;5;21;01mtrain_score\u001b[39;00m \u001b[38;5;28;01mimport\u001b[39;00m SimpleUnet\n\u001b[0;32m      3\u001b[0m T \u001b[38;5;241m=\u001b[39m \u001b[38;5;241m300\u001b[39m \u001b[38;5;66;03m### total time slots in forward or backward process\u001b[39;00m\n\u001b[0;32m      4\u001b[0m steps \u001b[38;5;241m=\u001b[39m \u001b[38;5;241m3\u001b[39m \u001b[38;5;66;03m########## iteration steps at each noise level\u001b[39;00m\n",
      "\u001b[1;31mModuleNotFoundError\u001b[0m: No module named 'train_score'"
     ]
    }
   ],
   "source": [
    "T = 300 ### total time slots in forward or backward process\n",
    "steps = 3 ########## iteration steps at each noise level\n",
    "random_channel = torch.randn_like(val_channel)\n",
    "\n",
    "################## For each SNR ###################\n",
    "for snr_idx, local_noise in tqdm(enumerate(noise_power)):\n",
    "    val_received = HP + torch.sqrt(noise_power[snr_idx])*noise # received signal through real channel\n",
    "    channel_t = random_channel.clone()\n",
    "    testing_index = 0\n",
    "    val_P_hermitian = torch.conj(torch.transpose(pilot, -1, 0))\n",
    "    ############### For each time slot in backward process #############\n",
    "    for time_idx in tqdm(range(T)):\n",
    "        labels = torch.ones(random_channel.shape[2]) * time_idx\n",
    "        ######### For each step at that noise level ########\n",
    "        for step_idx in range(steps):\n",
    "            with torch.no_grad():\n",
    "                score = model(channel_t, labels)\n",
    "                # Compute gradient for measurements in un-normalized space\n",
    "                meas_grad = torch.matmul(val_P_hermitian, torch.matmul(pilot, channel_t) - val_recevied)\n",
    "                # Sample noise\n",
    "                grad_noise = np.sqrt(2 * alpha * beta_noise) * torch.randn_like(channel_t)\n",
    "                # Apply update\n",
    "                channel_t = channel_t + alpha * (score - meas_grad /(local_noise/2. + current_sigma ** 2)) + grad_noise\n",
    "                \n",
    "                # Store loss\n",
    "                nmse_log[snr_idx, testing_idx] = \\\n",
    "                (torch.sum(torch.square(torch.abs(current - oracle)), dim=(-1, -2))/\\\n",
    "                torch.sum(torch.square(torch.abs(oracle)), dim=(-1, -2))).cpu().numpy()\n",
    "                testing_idx = testing_idx + 1"
   ]
  },
  {
   "cell_type": "code",
   "execution_count": 29,
   "id": "0872b4c5",
   "metadata": {},
   "outputs": [
    {
     "name": "stdout",
     "output_type": "stream",
     "text": [
      "0\n",
      "10\n",
      "torch.Size([64, 64, 10])\n"
     ]
    }
   ],
   "source": [
    "print(snr_idx)\n",
    "print((val_channel.shape[2]))\n",
    "print(random_channel.shape)"
   ]
  }
 ],
 "metadata": {
  "kernelspec": {
   "display_name": "Python 3 (ipykernel)",
   "language": "python",
   "name": "python3"
  },
  "language_info": {
   "codemirror_mode": {
    "name": "ipython",
    "version": 3
   },
   "file_extension": ".py",
   "mimetype": "text/x-python",
   "name": "python",
   "nbconvert_exporter": "python",
   "pygments_lexer": "ipython3",
   "version": "3.9.16"
  }
 },
 "nbformat": 4,
 "nbformat_minor": 5
}
